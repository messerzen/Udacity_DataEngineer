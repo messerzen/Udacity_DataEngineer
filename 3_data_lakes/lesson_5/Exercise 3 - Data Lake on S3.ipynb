{
 "cells": [
  {
   "cell_type": "markdown",
   "metadata": {},
   "source": [
    "# Exercise 3 - Data Lake on S3\n",
    "\n",
    "-> Needs an EMR cluster to work with S3"
   ]
  },
  {
   "cell_type": "code",
   "execution_count": 4,
   "metadata": {},
   "outputs": [],
   "source": [
    "from pyspark.sql import SparkSession\n",
    "import os\n",
    "import configparser"
   ]
  },
  {
   "cell_type": "markdown",
   "metadata": {},
   "source": [
    "# Make sure that your AWS credentials are loaded as env vars"
   ]
  },
  {
   "cell_type": "code",
   "execution_count": 5,
   "metadata": {},
   "outputs": [],
   "source": [
    "config = configparser.ConfigParser()\n",
    "\n",
    "#Normally this file should be in ~/.aws/credentials\n",
    "config.read_file(open('aws/credentials.cfg'))\n",
    "\n",
    "os.environ[\"AWS_ACCESS_KEY_ID\"]= config['AWS']['AWS_ACCESS_KEY_ID']\n",
    "os.environ[\"AWS_SECRET_ACCESS_KEY\"]= config['AWS']['AWS_SECRET_ACCESS_KEY']"
   ]
  },
  {
   "cell_type": "markdown",
   "metadata": {},
   "source": [
    "# Create spark session with hadoop-aws package"
   ]
  },
  {
   "cell_type": "code",
   "execution_count": 6,
   "metadata": {},
   "outputs": [],
   "source": [
    "spark = SparkSession.builder\\\n",
    "                     .config(\"spark.jars.packages\",\"org.apache.hadoop:hadoop-aws:2.7.0\")\\\n",
    "                     .getOrCreate()"
   ]
  },
  {
   "cell_type": "markdown",
   "metadata": {},
   "source": [
    "# Load data from S3"
   ]
  },
  {
   "cell_type": "code",
   "execution_count": 7,
   "metadata": {},
   "outputs": [],
   "source": [
    "df = spark.read.csv(\"s3a://udacity-dend/pagila/payment/payment.csv\")"
   ]
  },
  {
   "cell_type": "code",
   "execution_count": 8,
   "metadata": {},
   "outputs": [
    {
     "name": "stdout",
     "output_type": "stream",
     "text": [
      "root\n",
      " |-- _c0: string (nullable = true)\n",
      "\n",
      "+--------------------+\n",
      "|                 _c0|\n",
      "+--------------------+\n",
      "|payment_id;custom...|\n",
      "|16050;269;2;7;1.9...|\n",
      "|16051;269;1;98;0....|\n",
      "|16052;269;2;678;6...|\n",
      "|16053;269;2;703;0...|\n",
      "+--------------------+\n",
      "only showing top 5 rows\n",
      "\n"
     ]
    }
   ],
   "source": [
    "df.printSchema()\n",
    "df.show(5)"
   ]
  },
  {
   "cell_type": "markdown",
   "metadata": {},
   "source": [
    "# Infer schema, fix header and separator"
   ]
  },
  {
   "cell_type": "code",
   "execution_count": 9,
   "metadata": {},
   "outputs": [],
   "source": [
    "df = spark.read.csv(\"s3a://udacity-dend/pagila/payment/payment.csv\",sep=\";\", inferSchema=True, header=True)"
   ]
  },
  {
   "cell_type": "code",
   "execution_count": 10,
   "metadata": {},
   "outputs": [
    {
     "name": "stdout",
     "output_type": "stream",
     "text": [
      "root\n",
      " |-- payment_id: integer (nullable = true)\n",
      " |-- customer_id: integer (nullable = true)\n",
      " |-- staff_id: integer (nullable = true)\n",
      " |-- rental_id: integer (nullable = true)\n",
      " |-- amount: double (nullable = true)\n",
      " |-- payment_date: string (nullable = true)\n",
      "\n",
      "+----------+-----------+--------+---------+------+--------------------+\n",
      "|payment_id|customer_id|staff_id|rental_id|amount|        payment_date|\n",
      "+----------+-----------+--------+---------+------+--------------------+\n",
      "|     16050|        269|       2|        7|  1.99|2017-01-24 21:40:...|\n",
      "|     16051|        269|       1|       98|  0.99|2017-01-25 15:16:...|\n",
      "|     16052|        269|       2|      678|  6.99|2017-01-28 21:44:...|\n",
      "|     16053|        269|       2|      703|  0.99|2017-01-29 00:58:...|\n",
      "|     16054|        269|       1|      750|  4.99|2017-01-29 08:10:...|\n",
      "+----------+-----------+--------+---------+------+--------------------+\n",
      "only showing top 5 rows\n",
      "\n"
     ]
    }
   ],
   "source": [
    "df.printSchema()\n",
    "df.show(5)"
   ]
  },
  {
   "cell_type": "markdown",
   "metadata": {},
   "source": [
    "# Fix the data yourself "
   ]
  },
  {
   "cell_type": "code",
   "execution_count": 11,
   "metadata": {},
   "outputs": [
    {
     "name": "stdout",
     "output_type": "stream",
     "text": [
      "+----------+-----------+--------+---------+------+--------------------+--------------------+\n",
      "|payment_id|customer_id|staff_id|rental_id|amount|        payment_date|   payment_timestamp|\n",
      "+----------+-----------+--------+---------+------+--------------------+--------------------+\n",
      "|     16050|        269|       2|        7|  1.99|2017-01-24 21:40:...|2017-01-24 21:40:...|\n",
      "|     16051|        269|       1|       98|  0.99|2017-01-25 15:16:...|2017-01-25 15:16:...|\n",
      "|     16052|        269|       2|      678|  6.99|2017-01-28 21:44:...|2017-01-28 21:44:...|\n",
      "|     16053|        269|       2|      703|  0.99|2017-01-29 00:58:...|2017-01-29 00:58:...|\n",
      "|     16054|        269|       1|      750|  4.99|2017-01-29 08:10:...|2017-01-29 08:10:...|\n",
      "+----------+-----------+--------+---------+------+--------------------+--------------------+\n",
      "only showing top 5 rows\n",
      "\n"
     ]
    }
   ],
   "source": [
    "import  pyspark.sql.functions as F\n",
    "dfPayment = df.withColumn('payment_timestamp', F.to_timestamp('payment_date'))\n",
    "dfPayment.show(5)"
   ]
  },
  {
   "cell_type": "markdown",
   "metadata": {},
   "source": [
    "# Extract the month"
   ]
  },
  {
   "cell_type": "code",
   "execution_count": 13,
   "metadata": {},
   "outputs": [
    {
     "data": {
      "text/html": [
       "<div>\n",
       "<style scoped>\n",
       "    .dataframe tbody tr th:only-of-type {\n",
       "        vertical-align: middle;\n",
       "    }\n",
       "\n",
       "    .dataframe tbody tr th {\n",
       "        vertical-align: top;\n",
       "    }\n",
       "\n",
       "    .dataframe thead th {\n",
       "        text-align: right;\n",
       "    }\n",
       "</style>\n",
       "<table border=\"1\" class=\"dataframe\">\n",
       "  <thead>\n",
       "    <tr style=\"text-align: right;\">\n",
       "      <th></th>\n",
       "      <th>payment_id</th>\n",
       "      <th>customer_id</th>\n",
       "      <th>staff_id</th>\n",
       "      <th>rental_id</th>\n",
       "      <th>amount</th>\n",
       "      <th>payment_date</th>\n",
       "      <th>payment_timestamp</th>\n",
       "      <th>month</th>\n",
       "    </tr>\n",
       "  </thead>\n",
       "  <tbody>\n",
       "    <tr>\n",
       "      <th>0</th>\n",
       "      <td>16050</td>\n",
       "      <td>269</td>\n",
       "      <td>2</td>\n",
       "      <td>7</td>\n",
       "      <td>1.99</td>\n",
       "      <td>2017-01-24 21:40:19.996577+00</td>\n",
       "      <td>2017-01-24 21:40:19.996577</td>\n",
       "      <td>1</td>\n",
       "    </tr>\n",
       "    <tr>\n",
       "      <th>1</th>\n",
       "      <td>16051</td>\n",
       "      <td>269</td>\n",
       "      <td>1</td>\n",
       "      <td>98</td>\n",
       "      <td>0.99</td>\n",
       "      <td>2017-01-25 15:16:50.996577+00</td>\n",
       "      <td>2017-01-25 15:16:50.996577</td>\n",
       "      <td>1</td>\n",
       "    </tr>\n",
       "    <tr>\n",
       "      <th>2</th>\n",
       "      <td>16052</td>\n",
       "      <td>269</td>\n",
       "      <td>2</td>\n",
       "      <td>678</td>\n",
       "      <td>6.99</td>\n",
       "      <td>2017-01-28 21:44:14.996577+00</td>\n",
       "      <td>2017-01-28 21:44:14.996577</td>\n",
       "      <td>1</td>\n",
       "    </tr>\n",
       "    <tr>\n",
       "      <th>3</th>\n",
       "      <td>16053</td>\n",
       "      <td>269</td>\n",
       "      <td>2</td>\n",
       "      <td>703</td>\n",
       "      <td>0.99</td>\n",
       "      <td>2017-01-29 00:58:02.996577+00</td>\n",
       "      <td>2017-01-29 00:58:02.996577</td>\n",
       "      <td>1</td>\n",
       "    </tr>\n",
       "    <tr>\n",
       "      <th>4</th>\n",
       "      <td>16054</td>\n",
       "      <td>269</td>\n",
       "      <td>1</td>\n",
       "      <td>750</td>\n",
       "      <td>4.99</td>\n",
       "      <td>2017-01-29 08:10:06.996577+00</td>\n",
       "      <td>2017-01-29 08:10:06.996577</td>\n",
       "      <td>1</td>\n",
       "    </tr>\n",
       "    <tr>\n",
       "      <th>5</th>\n",
       "      <td>16055</td>\n",
       "      <td>269</td>\n",
       "      <td>2</td>\n",
       "      <td>1099</td>\n",
       "      <td>2.99</td>\n",
       "      <td>2017-01-31 12:23:14.996577+00</td>\n",
       "      <td>2017-01-31 12:23:14.996577</td>\n",
       "      <td>1</td>\n",
       "    </tr>\n",
       "    <tr>\n",
       "      <th>6</th>\n",
       "      <td>16056</td>\n",
       "      <td>270</td>\n",
       "      <td>1</td>\n",
       "      <td>193</td>\n",
       "      <td>1.99</td>\n",
       "      <td>2017-01-26 05:10:14.996577+00</td>\n",
       "      <td>2017-01-26 05:10:14.996577</td>\n",
       "      <td>1</td>\n",
       "    </tr>\n",
       "    <tr>\n",
       "      <th>7</th>\n",
       "      <td>16057</td>\n",
       "      <td>270</td>\n",
       "      <td>1</td>\n",
       "      <td>1040</td>\n",
       "      <td>4.99</td>\n",
       "      <td>2017-01-31 04:03:42.996577+00</td>\n",
       "      <td>2017-01-31 04:03:42.996577</td>\n",
       "      <td>1</td>\n",
       "    </tr>\n",
       "    <tr>\n",
       "      <th>8</th>\n",
       "      <td>16058</td>\n",
       "      <td>271</td>\n",
       "      <td>1</td>\n",
       "      <td>1096</td>\n",
       "      <td>8.99</td>\n",
       "      <td>2017-01-31 11:59:15.996577+00</td>\n",
       "      <td>2017-01-31 11:59:15.996577</td>\n",
       "      <td>1</td>\n",
       "    </tr>\n",
       "    <tr>\n",
       "      <th>9</th>\n",
       "      <td>16059</td>\n",
       "      <td>272</td>\n",
       "      <td>1</td>\n",
       "      <td>33</td>\n",
       "      <td>0.99</td>\n",
       "      <td>2017-01-25 02:47:17.996577+00</td>\n",
       "      <td>2017-01-25 02:47:17.996577</td>\n",
       "      <td>1</td>\n",
       "    </tr>\n",
       "  </tbody>\n",
       "</table>\n",
       "</div>"
      ],
      "text/plain": [
       "   payment_id  customer_id  staff_id  rental_id  amount  \\\n",
       "0       16050          269         2          7    1.99   \n",
       "1       16051          269         1         98    0.99   \n",
       "2       16052          269         2        678    6.99   \n",
       "3       16053          269         2        703    0.99   \n",
       "4       16054          269         1        750    4.99   \n",
       "5       16055          269         2       1099    2.99   \n",
       "6       16056          270         1        193    1.99   \n",
       "7       16057          270         1       1040    4.99   \n",
       "8       16058          271         1       1096    8.99   \n",
       "9       16059          272         1         33    0.99   \n",
       "\n",
       "                    payment_date          payment_timestamp  month  \n",
       "0  2017-01-24 21:40:19.996577+00 2017-01-24 21:40:19.996577      1  \n",
       "1  2017-01-25 15:16:50.996577+00 2017-01-25 15:16:50.996577      1  \n",
       "2  2017-01-28 21:44:14.996577+00 2017-01-28 21:44:14.996577      1  \n",
       "3  2017-01-29 00:58:02.996577+00 2017-01-29 00:58:02.996577      1  \n",
       "4  2017-01-29 08:10:06.996577+00 2017-01-29 08:10:06.996577      1  \n",
       "5  2017-01-31 12:23:14.996577+00 2017-01-31 12:23:14.996577      1  \n",
       "6  2017-01-26 05:10:14.996577+00 2017-01-26 05:10:14.996577      1  \n",
       "7  2017-01-31 04:03:42.996577+00 2017-01-31 04:03:42.996577      1  \n",
       "8  2017-01-31 11:59:15.996577+00 2017-01-31 11:59:15.996577      1  \n",
       "9  2017-01-25 02:47:17.996577+00 2017-01-25 02:47:17.996577      1  "
      ]
     },
     "execution_count": 13,
     "metadata": {},
     "output_type": "execute_result"
    }
   ],
   "source": [
    "dfPayment = dfPayment.withColumn('month', F.month('payment_timestamp'))\n",
    "dfPayment.limit(10).toPandas()"
   ]
  },
  {
   "cell_type": "markdown",
   "metadata": {},
   "source": [
    "# Computer aggregate revenue per month"
   ]
  },
  {
   "cell_type": "code",
   "execution_count": 17,
   "metadata": {
    "scrolled": true
   },
   "outputs": [
    {
     "name": "stdout",
     "output_type": "stream",
     "text": [
      "+-----+------------------+\n",
      "|month|           revenue|\n",
      "+-----+------------------+\n",
      "|    4|28559.460000003943|\n",
      "|    3|23886.560000002115|\n",
      "|    2| 9631.879999999608|\n",
      "|    1| 4824.429999999856|\n",
      "|    5|  514.180000000001|\n",
      "+-----+------------------+\n",
      "\n"
     ]
    }
   ],
   "source": [
    "dfPayment.createOrReplaceTempView(\"payment\")\n",
    "spark.sql('''\n",
    "    SELECT month,\n",
    "           sum(amount) AS revenue\n",
    "    FROM payment\n",
    "    GROUP BY 1\n",
    "    ORDER BY 2 DESC    \n",
    "''').show()"
   ]
  },
  {
   "cell_type": "markdown",
   "metadata": {},
   "source": [
    "# Fix the schema"
   ]
  },
  {
   "cell_type": "code",
   "execution_count": 19,
   "metadata": {},
   "outputs": [],
   "source": [
    "from pyspark.sql.types import StructType as R, StructField as Fld, DoubleType as Dbl, StringType as Str, IntegerType as Int, DateType as Date\n",
    "paymentSchema = R([\n",
    "    Fld('payment_id', Int()),\n",
    "    Fld('customer_id', Int()),\n",
    "    Fld('staff_id', Int()),\n",
    "    Fld('rental_id', Int()),\n",
    "    Fld('amount', Dbl()),\n",
    "    Fld('payment_date', Date()),\n",
    "    ]\n",
    ")"
   ]
  },
  {
   "cell_type": "code",
   "execution_count": 49,
   "metadata": {},
   "outputs": [],
   "source": [
    "dfPaymentWithSchema = spark.read.csv('s3a://udacity-dend/pagila/payment/payment.csv',\n",
    "                                     schema=paymentSchema, sep=';')"
   ]
  },
  {
   "cell_type": "code",
   "execution_count": 50,
   "metadata": {},
   "outputs": [
    {
     "name": "stdout",
     "output_type": "stream",
     "text": [
      "root\n",
      " |-- payment_id: integer (nullable = true)\n",
      " |-- customer_id: integer (nullable = true)\n",
      " |-- staff_id: integer (nullable = true)\n",
      " |-- rental_id: integer (nullable = true)\n",
      " |-- amount: double (nullable = true)\n",
      " |-- payment_date: date (nullable = true)\n",
      "\n",
      "+----------+-----------+--------+---------+------+--------------------+\n",
      "|payment_id|customer_id|staff_id|rental_id|amount|        payment_date|\n",
      "+----------+-----------+--------+---------+------+--------------------+\n",
      "|     16050|        269|       2|        7|  1.99|2017-01-24 21:40:...|\n",
      "|     16051|        269|       1|       98|  0.99|2017-01-25 15:16:...|\n",
      "|     16052|        269|       2|      678|  6.99|2017-01-28 21:44:...|\n",
      "|     16053|        269|       2|      703|  0.99|2017-01-29 00:58:...|\n",
      "|     16054|        269|       1|      750|  4.99|2017-01-29 08:10:...|\n",
      "+----------+-----------+--------+---------+------+--------------------+\n",
      "only showing top 5 rows\n",
      "\n"
     ]
    }
   ],
   "source": [
    "dfPaymentWithSchema.printSchema()\n",
    "df.show(5)"
   ]
  },
  {
   "cell_type": "code",
   "execution_count": 51,
   "metadata": {},
   "outputs": [],
   "source": [
    "dfPaymentWithSchemaNotNull = dfPaymentWithSchema.na.drop(subset=['payment_id'])"
   ]
  },
  {
   "cell_type": "code",
   "execution_count": 54,
   "metadata": {},
   "outputs": [
    {
     "name": "stdout",
     "output_type": "stream",
     "text": [
      "+--------------------------------------------------+------------------+\n",
      "|date_trunc(month, CAST(payment_date AS TIMESTAMP))|       sum(amount)|\n",
      "+--------------------------------------------------+------------------+\n",
      "|                               2017-04-01 00:00:00|28559.460000003943|\n",
      "|                               2017-03-01 00:00:00|23886.560000002115|\n",
      "|                               2017-02-01 00:00:00| 9631.879999999608|\n",
      "|                               2017-01-01 00:00:00| 4824.429999999856|\n",
      "|                               2017-05-01 00:00:00|  514.180000000001|\n",
      "+--------------------------------------------------+------------------+\n",
      "\n"
     ]
    }
   ],
   "source": [
    "dfPaymentWithSchema.createOrReplaceTempView(\"payment\")\n",
    "spark.sql('''\n",
    "SELECT DATE_TRUNC('month', payment_date),\n",
    "       SUM (amount)\n",
    "FROM (\n",
    "    SELECT * FROM payment\n",
    "    WHERE amount IS NOT NULL) sub\n",
    "GROUP BY 1\n",
    "ORDER BY 2 DESC\n",
    "''').show()"
   ]
  },
  {
   "cell_type": "code",
   "execution_count": null,
   "metadata": {},
   "outputs": [],
   "source": []
  }
 ],
 "metadata": {
  "kernelspec": {
   "display_name": "Python 3",
   "language": "python",
   "name": "python3"
  },
  "language_info": {
   "codemirror_mode": {
    "name": "ipython",
    "version": 3
   },
   "file_extension": ".py",
   "mimetype": "text/x-python",
   "name": "python",
   "nbconvert_exporter": "python",
   "pygments_lexer": "ipython3",
   "version": "3.6.3"
  },
  "toc": {
   "base_numbering": 1,
   "nav_menu": {},
   "number_sections": false,
   "sideBar": true,
   "skip_h1_title": false,
   "title_cell": "Table of Contents",
   "title_sidebar": "Contents",
   "toc_cell": false,
   "toc_position": {},
   "toc_section_display": true,
   "toc_window_display": false
  }
 },
 "nbformat": 4,
 "nbformat_minor": 2
}
