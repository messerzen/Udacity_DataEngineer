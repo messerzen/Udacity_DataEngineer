{
 "cells": [
  {
   "cell_type": "markdown",
   "source": [
    "# Data Wrangling with DataFrames Coding Quiz\n",
    "\n",
    "Use this Jupyter notebook to find the answers to the quiz in the previous section. There is an answer key in the next part of the lesson."
   ],
   "metadata": {}
  },
  {
   "cell_type": "code",
   "execution_count": 1,
   "source": [
    "from pyspark.sql import SparkSession\n",
    "\n",
    "from pyspark.sql.functions import udf\n",
    "from pyspark.sql.types import StringType, IntegerType\n",
    "from pyspark.sql.functions import desc, asc\n",
    "from pyspark.sql.functions import sum as Fsum\n",
    "\n",
    "from pyspark import SparkConf\n",
    "from pyspark.sql import SparkSession\n",
    "import pyspark\n",
    "\n",
    "import datetime\n",
    "\n",
    "import numpy as np\n",
    "import pandas as pd\n",
    "import matplotlib.pyplot as plt\n",
    "%matplotlib.inline"
   ],
   "outputs": [
    {
     "output_type": "stream",
     "name": "stderr",
     "text": [
      "UsageError: Line magic function `%matplotlib.inline` not found.\n"
     ]
    }
   ],
   "metadata": {}
  },
  {
   "cell_type": "code",
   "execution_count": 3,
   "source": [
    "spark = SparkSession \\\n",
    "    .builder \\\n",
    "    .appName(\"Our first Python Spark SQL example\") \\\n",
    "    .getOrCreate()"
   ],
   "outputs": [],
   "metadata": {}
  },
  {
   "cell_type": "code",
   "execution_count": 4,
   "source": [
    "path = \"./data/sparkify_log_small.json\"\n",
    "user_log = spark.read.json(path)"
   ],
   "outputs": [],
   "metadata": {}
  },
  {
   "cell_type": "markdown",
   "source": [
    "# Question 1\n",
    "\n",
    "Which page did user id \"\" (empty string) NOT visit?"
   ],
   "metadata": {}
  },
  {
   "cell_type": "code",
   "execution_count": 5,
   "source": [
    "user_log.select('page').where(user_log.userId == '').dropDuplicates().show()"
   ],
   "outputs": [
    {
     "output_type": "stream",
     "name": "stdout",
     "text": [
      "+-----+\n",
      "| page|\n",
      "+-----+\n",
      "| Home|\n",
      "|About|\n",
      "|Login|\n",
      "| Help|\n",
      "+-----+\n",
      "\n"
     ]
    }
   ],
   "metadata": {}
  },
  {
   "cell_type": "markdown",
   "source": [
    "# Question 2 - Reflect\n",
    "\n",
    "What type of user does the empty string user id most likely refer to?\n"
   ],
   "metadata": {}
  },
  {
   "cell_type": "code",
   "execution_count": 7,
   "source": [
    "user_log.filter(user_log.userId == '').show()"
   ],
   "outputs": [
    {
     "output_type": "stream",
     "name": "stdout",
     "text": [
      "+------+----------+---------+------+-------------+--------+------+-----+--------+------+-----+------------+---------+----+------+-------------+---------+------+\n",
      "|artist|      auth|firstName|gender|itemInSession|lastName|length|level|location|method| page|registration|sessionId|song|status|           ts|userAgent|userId|\n",
      "+------+----------+---------+------+-------------+--------+------+-----+--------+------+-----+------------+---------+----+------+-------------+---------+------+\n",
      "|  null|Logged Out|     null|  null|            0|    null|  null| free|    null|   PUT|Login|        null|     5598|null|   307|1513721196284|     null|      |\n",
      "|  null|Logged Out|     null|  null|           26|    null|  null| paid|    null|   GET| Home|        null|      428|null|   200|1513721274284|     null|      |\n",
      "|  null|Logged Out|     null|  null|            5|    null|  null| free|    null|   GET| Home|        null|     2941|null|   200|1513722009284|     null|      |\n",
      "|  null|Logged Out|     null|  null|            5|    null|  null| paid|    null|   GET| Home|        null|     5243|null|   200|1513723183284|     null|      |\n",
      "|  null|Logged Out|     null|  null|            6|    null|  null| paid|    null|   PUT|Login|        null|     5243|null|   307|1513723184284|     null|      |\n",
      "|  null|Logged Out|     null|  null|            0|    null|  null| free|    null|   PUT|Login|        null|     1477|null|   307|1513723587284|     null|      |\n",
      "|  null|Logged Out|     null|  null|           14|    null|  null| paid|    null|   GET| Home|        null|     5243|null|   200|1513724475284|     null|      |\n",
      "|  null|Logged Out|     null|  null|            7|    null|  null| paid|    null|   GET| Home|        null|     4108|null|   200|1513724530284|     null|      |\n",
      "|  null|Logged Out|     null|  null|            0|    null|  null| paid|    null|   PUT|Login|        null|     5764|null|   307|1513728229284|     null|      |\n",
      "|  null|Logged Out|     null|  null|            0|    null|  null| paid|    null|   GET| Home|        null|     5566|null|   200|1513729051284|     null|      |\n",
      "|  null|Logged Out|     null|  null|            1|    null|  null| paid|    null|   PUT|Login|        null|     5566|null|   307|1513729052284|     null|      |\n",
      "|  null|Logged Out|     null|  null|            0|    null|  null| paid|    null|   GET| Home|        null|     3697|null|   200|1513729376284|     null|      |\n",
      "|  null|Logged Out|     null|  null|            1|    null|  null| paid|    null|   GET| Help|        null|     3697|null|   200|1513729445284|     null|      |\n",
      "|  null|Logged Out|     null|  null|           60|    null|  null| paid|    null|   GET| Home|        null|     5175|null|   200|1513729762284|     null|      |\n",
      "|  null|Logged Out|     null|  null|           61|    null|  null| paid|    null|   PUT|Login|        null|     5175|null|   307|1513729763284|     null|      |\n",
      "|  null|Logged Out|     null|  null|            0|    null|  null| free|    null|   GET| Home|        null|      511|null|   200|1513730128284|     null|      |\n",
      "|  null|Logged Out|     null|  null|            1|    null|  null| free|    null|   PUT|Login|        null|      511|null|   307|1513730129284|     null|      |\n",
      "|  null|Logged Out|     null|  null|            0|    null|  null| free|    null|   GET| Home|        null|     2992|null|   200|1513730621284|     null|      |\n",
      "|  null|Logged Out|     null|  null|            1|    null|  null| free|    null|   PUT|Login|        null|     2992|null|   307|1513730622284|     null|      |\n",
      "|  null|Logged Out|     null|  null|            8|    null|  null| paid|    null|   GET| Home|        null|     4239|null|   200|1513730953284|     null|      |\n",
      "+------+----------+---------+------+-------------+--------+------+-----+--------+------+-----+------------+---------+----+------+-------------+---------+------+\n",
      "only showing top 20 rows\n",
      "\n"
     ]
    }
   ],
   "metadata": {}
  },
  {
   "cell_type": "code",
   "execution_count": 8,
   "source": [
    "user_log.filter(user_log.userId == '').groupBy('level').count().orderBy('count').show()"
   ],
   "outputs": [
    {
     "output_type": "stream",
     "name": "stdout",
     "text": [
      "+-----+-----+\n",
      "|level|count|\n",
      "+-----+-----+\n",
      "| paid|  143|\n",
      "| free|  193|\n",
      "+-----+-----+\n",
      "\n"
     ]
    }
   ],
   "metadata": {}
  },
  {
   "cell_type": "code",
   "execution_count": 9,
   "source": [
    "user_log.filter(user_log.userId == '').groupBy('page').count().orderBy('count').show()"
   ],
   "outputs": [
    {
     "output_type": "stream",
     "name": "stdout",
     "text": [
      "+-----+-----+\n",
      "| page|count|\n",
      "+-----+-----+\n",
      "| Help|    8|\n",
      "|About|   15|\n",
      "|Login|  126|\n",
      "| Home|  187|\n",
      "+-----+-----+\n",
      "\n"
     ]
    }
   ],
   "metadata": {}
  },
  {
   "cell_type": "markdown",
   "source": [
    "# Question 3\n",
    "\n",
    "How many female users do we have in the data set?"
   ],
   "metadata": {}
  },
  {
   "cell_type": "code",
   "execution_count": 10,
   "source": [
    "user_log.dropDuplicates(['userId']).filter(user_log.gender == 'F').count()"
   ],
   "outputs": [
    {
     "output_type": "execute_result",
     "data": {
      "text/plain": [
       "462"
      ]
     },
     "metadata": {},
     "execution_count": 10
    }
   ],
   "metadata": {}
  },
  {
   "cell_type": "markdown",
   "source": [
    "# Question 4\n",
    "\n",
    "How many songs were played from the most played artist?"
   ],
   "metadata": {}
  },
  {
   "cell_type": "code",
   "execution_count": 11,
   "source": [
    "user_log.groupBy('artist').count().sort(desc('count')).show(truncate=False)"
   ],
   "outputs": [
    {
     "output_type": "stream",
     "name": "stdout",
     "text": [
      "+----------------------------------------------------------------------+-----+\n",
      "|artist                                                                |count|\n",
      "+----------------------------------------------------------------------+-----+\n",
      "|null                                                                  |1653 |\n",
      "|Coldplay                                                              |83   |\n",
      "|Kings Of Leon                                                         |69   |\n",
      "|Florence + The Machine                                                |52   |\n",
      "|BjÃÂ¶rk                                                              |46   |\n",
      "|Dwight Yoakam                                                         |45   |\n",
      "|Justin Bieber                                                         |43   |\n",
      "|The Black Keys                                                        |40   |\n",
      "|OneRepublic                                                           |37   |\n",
      "|Muse                                                                  |36   |\n",
      "|Jack Johnson                                                          |36   |\n",
      "|Radiohead                                                             |31   |\n",
      "|Taylor Swift                                                          |29   |\n",
      "|Lily Allen                                                            |28   |\n",
      "|Train                                                                 |28   |\n",
      "|Barry Tuckwell/Academy of St Martin-in-the-Fields/Sir Neville Marriner|28   |\n",
      "|Nickelback                                                            |27   |\n",
      "|Daft Punk                                                             |27   |\n",
      "|Metallica                                                             |27   |\n",
      "|Kanye West                                                            |26   |\n",
      "+----------------------------------------------------------------------+-----+\n",
      "only showing top 20 rows\n",
      "\n"
     ]
    }
   ],
   "metadata": {}
  },
  {
   "cell_type": "markdown",
   "source": [
    "# Question 5 (challenge)\n",
    "\n",
    "How many songs do users listen to on average between visiting our home page? Please round your answer to the closest integer.\n",
    "\n"
   ],
   "metadata": {}
  },
  {
   "cell_type": "code",
   "execution_count": 12,
   "source": [
    "# TODO: write your code to answer question 5\n",
    "#Creating an ufd to flag Home\n",
    "flag_home = udf(lambda x: 1 if x == 'Home' else 0, IntegerType())"
   ],
   "outputs": [],
   "metadata": {}
  },
  {
   "cell_type": "code",
   "execution_count": 14,
   "source": [
    "# Create an dataframe with visitHome column check\n",
    "user_home_visit = user_log.withColumn('visitHome', flag_home('page'))"
   ],
   "outputs": [],
   "metadata": {}
  },
  {
   "cell_type": "code",
   "execution_count": 21,
   "source": [
    "#Check if worked\n",
    "user_home_visit.filter(user_home_visit.page == 'Home').head()"
   ],
   "outputs": [
    {
     "output_type": "execute_result",
     "data": {
      "text/plain": [
       "Row(artist=None, auth='Logged In', firstName='Jordyn', gender='F', itemInSession=0, lastName='Jones', length=None, level='free', location='Syracuse, NY', method='GET', page='Home', registration=1513648531284, sessionId=1746, song=None, status=200, ts=1513720913284, userAgent='\"Mozilla/5.0 (Macintosh; Intel Mac OS X 10_9_4) AppleWebKit/537.36 (KHTML, like Gecko) Chrome/37.0.2062.94 Safari/537.36\"', userId='1747', visitHome=1)"
      ]
     },
     "metadata": {},
     "execution_count": 21
    }
   ],
   "metadata": {}
  },
  {
   "cell_type": "code",
   "execution_count": 22,
   "source": [
    "# Creating a window valuation\n",
    "from pyspark.sql import Window\n",
    "windowVal = Window.partitionBy('userId').orderBy(desc('ts')).rangeBetween(Window.unboundedPreceding, 0)"
   ],
   "outputs": [],
   "metadata": {}
  },
  {
   "cell_type": "code",
   "execution_count": 26,
   "source": [
    "cumsum = user_home_visit.filter((user_home_visit.page == 'NextSong') | (user_home_visit.page == 'Home')) \\\n",
    "    .select('userId', 'page', 'ts', 'visitHome') \\\n",
    "    .withColumn('period', Fsum('visitHome').over(windowVal))"
   ],
   "outputs": [],
   "metadata": {}
  },
  {
   "cell_type": "code",
   "execution_count": 28,
   "source": [
    "cumsum.filter((cumsum.page == 'NextSong')) \\\n",
    "    .groupBy('userID', 'period') \\\n",
    "    .agg({'period':'count'}) \\\n",
    "    .agg({'count(period)':'avg'}).show()"
   ],
   "outputs": [
    {
     "output_type": "stream",
     "name": "stdout",
     "text": [
      "+------------------+\n",
      "|avg(count(period))|\n",
      "+------------------+\n",
      "| 6.898347107438017|\n",
      "+------------------+\n",
      "\n"
     ]
    }
   ],
   "metadata": {}
  },
  {
   "cell_type": "code",
   "execution_count": 29,
   "source": [
    "cumsum.collect()"
   ],
   "outputs": [],
   "metadata": {}
  },
  {
   "cell_type": "code",
   "execution_count": null,
   "source": [],
   "outputs": [],
   "metadata": {}
  }
 ],
 "metadata": {
  "kernelspec": {
   "name": "python3",
   "display_name": "Python 3.8.10 64-bit"
  },
  "language_info": {
   "codemirror_mode": {
    "name": "ipython",
    "version": 3
   },
   "file_extension": ".py",
   "mimetype": "text/x-python",
   "name": "python",
   "nbconvert_exporter": "python",
   "pygments_lexer": "ipython3",
   "version": "3.8.10"
  },
  "interpreter": {
   "hash": "31f2aee4e71d21fbe5cf8b01ff0e069b9275f58929596ceb00d14d90e3e16cd6"
  }
 },
 "nbformat": 4,
 "nbformat_minor": 2
}